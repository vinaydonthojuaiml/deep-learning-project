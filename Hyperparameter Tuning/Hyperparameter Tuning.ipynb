{
 "cells": [
  {
   "cell_type": "code",
   "execution_count": 8,
   "id": "acbb3994",
   "metadata": {},
   "outputs": [],
   "source": [
    "import numpy as np\n",
    "import matplotlib.pyplot as plt\n",
    "import pandas as pd\n",
    "\n",
    "dataset = pd.read_csv('Churn_Modelling.csv')\n",
    "X = dataset.iloc[:, 3:13]\n",
    "y = dataset.iloc[:, 13]"
   ]
  },
  {
   "cell_type": "code",
   "execution_count": 9,
   "id": "2149823f",
   "metadata": {},
   "outputs": [
    {
     "data": {
      "text/html": [
       "<div><div id=43a0f832-6e70-43ea-ade6-d36099d4cf7f style=\"display:none; background-color:#9D6CFF; color:white; width:200px; height:30px; padding-left:5px; border-radius:4px; flex-direction:row; justify-content:space-around; align-items:center;\" onmouseover=\"this.style.backgroundColor='#BA9BF8'\" onmouseout=\"this.style.backgroundColor='#9D6CFF'\" onclick=\"window.commands?.execute('create-mitosheet-from-dataframe-output');\">See Full Dataframe in Mito</div> <script> if (window.commands?.hasCommand('create-mitosheet-from-dataframe-output')) document.getElementById('43a0f832-6e70-43ea-ade6-d36099d4cf7f').style.display = 'flex' </script> <table border=\"1\" class=\"dataframe\">\n",
       "  <thead>\n",
       "    <tr style=\"text-align: right;\">\n",
       "      <th></th>\n",
       "      <th>CreditScore</th>\n",
       "      <th>Geography</th>\n",
       "      <th>Gender</th>\n",
       "      <th>Age</th>\n",
       "      <th>Tenure</th>\n",
       "      <th>Balance</th>\n",
       "      <th>NumOfProducts</th>\n",
       "      <th>HasCrCard</th>\n",
       "      <th>IsActiveMember</th>\n",
       "      <th>EstimatedSalary</th>\n",
       "    </tr>\n",
       "  </thead>\n",
       "  <tbody>\n",
       "    <tr>\n",
       "      <th>0</th>\n",
       "      <td>619</td>\n",
       "      <td>France</td>\n",
       "      <td>Female</td>\n",
       "      <td>42</td>\n",
       "      <td>2</td>\n",
       "      <td>0.00</td>\n",
       "      <td>1</td>\n",
       "      <td>1</td>\n",
       "      <td>1</td>\n",
       "      <td>101348.88</td>\n",
       "    </tr>\n",
       "    <tr>\n",
       "      <th>1</th>\n",
       "      <td>608</td>\n",
       "      <td>Spain</td>\n",
       "      <td>Female</td>\n",
       "      <td>41</td>\n",
       "      <td>1</td>\n",
       "      <td>83807.86</td>\n",
       "      <td>1</td>\n",
       "      <td>0</td>\n",
       "      <td>1</td>\n",
       "      <td>112542.58</td>\n",
       "    </tr>\n",
       "    <tr>\n",
       "      <th>2</th>\n",
       "      <td>502</td>\n",
       "      <td>France</td>\n",
       "      <td>Female</td>\n",
       "      <td>42</td>\n",
       "      <td>8</td>\n",
       "      <td>159660.80</td>\n",
       "      <td>3</td>\n",
       "      <td>1</td>\n",
       "      <td>0</td>\n",
       "      <td>113931.57</td>\n",
       "    </tr>\n",
       "    <tr>\n",
       "      <th>3</th>\n",
       "      <td>699</td>\n",
       "      <td>France</td>\n",
       "      <td>Female</td>\n",
       "      <td>39</td>\n",
       "      <td>1</td>\n",
       "      <td>0.00</td>\n",
       "      <td>2</td>\n",
       "      <td>0</td>\n",
       "      <td>0</td>\n",
       "      <td>93826.63</td>\n",
       "    </tr>\n",
       "    <tr>\n",
       "      <th>4</th>\n",
       "      <td>850</td>\n",
       "      <td>Spain</td>\n",
       "      <td>Female</td>\n",
       "      <td>43</td>\n",
       "      <td>2</td>\n",
       "      <td>125510.82</td>\n",
       "      <td>1</td>\n",
       "      <td>1</td>\n",
       "      <td>1</td>\n",
       "      <td>79084.10</td>\n",
       "    </tr>\n",
       "  </tbody>\n",
       "</table></div>"
      ],
      "text/plain": [
       "   CreditScore Geography  Gender  Age  Tenure    Balance  NumOfProducts  \\\n",
       "0          619    France  Female   42       2       0.00              1   \n",
       "1          608     Spain  Female   41       1   83807.86              1   \n",
       "2          502    France  Female   42       8  159660.80              3   \n",
       "3          699    France  Female   39       1       0.00              2   \n",
       "4          850     Spain  Female   43       2  125510.82              1   \n",
       "\n",
       "   HasCrCard  IsActiveMember  EstimatedSalary  \n",
       "0          1               1        101348.88  \n",
       "1          0               1        112542.58  \n",
       "2          1               0        113931.57  \n",
       "3          0               0         93826.63  \n",
       "4          1               1         79084.10  "
      ]
     },
     "execution_count": 9,
     "metadata": {},
     "output_type": "execute_result"
    }
   ],
   "source": [
    "X.head()"
   ]
  },
  {
   "cell_type": "code",
   "execution_count": 10,
   "id": "72f7d006",
   "metadata": {},
   "outputs": [],
   "source": [
    "#Create dummy variables\n",
    "geography=pd.get_dummies(dataset[\"Geography\"],drop_first=True)\n",
    "gender=pd.get_dummies(dataset['Gender'],drop_first=True)"
   ]
  },
  {
   "cell_type": "code",
   "execution_count": 11,
   "id": "78a6a1e1",
   "metadata": {},
   "outputs": [],
   "source": [
    "## Concatenate the Data Frames\n",
    "X=pd.concat([X,geography,gender],axis=1)"
   ]
  },
  {
   "cell_type": "code",
   "execution_count": 12,
   "id": "d5368287",
   "metadata": {},
   "outputs": [],
   "source": [
    "## Drop Unnecessary columns\n",
    "X=X.drop(['Geography','Gender'],axis=1)"
   ]
  },
  {
   "cell_type": "code",
   "execution_count": 19,
   "id": "f80b1305",
   "metadata": {},
   "outputs": [],
   "source": [
    "# Splitting the dataset into the Training set and Test set\n",
    "from sklearn.model_selection import train_test_split\n",
    "X_train, X_val, y_train, y_val = train_test_split(X, y, test_size = 0.2, random_state = 0)"
   ]
  },
  {
   "cell_type": "code",
   "execution_count": 21,
   "id": "f7608150",
   "metadata": {},
   "outputs": [],
   "source": [
    "import tensorflow as tf\n",
    "from tensorflow import keras\n",
    "from tensorflow.keras.models import Sequential\n",
    "from tensorflow.keras.layers import Dense\n",
    "from tensorflow.keras.optimizers import Adam\n",
    "from tensorflow.keras.callbacks import EarlyStopping\n",
    "from kerastuner.tuners import RandomSearch"
   ]
  },
  {
   "cell_type": "code",
   "execution_count": 10,
   "id": "aeac2e19",
   "metadata": {},
   "outputs": [],
   "source": [
    "#!pip install keras-tuner"
   ]
  },
  {
   "cell_type": "code",
   "execution_count": 22,
   "id": "ae555d4d",
   "metadata": {},
   "outputs": [],
   "source": [
    "# Data preprocessing\n",
    "# Feature Scaling\n",
    "from sklearn.preprocessing import StandardScaler\n",
    "scaler = StandardScaler()\n",
    "X_train = scaler.fit_transform(X_train)\n",
    "X_val = scaler.transform(X_val)"
   ]
  },
  {
   "cell_type": "code",
   "execution_count": 23,
   "id": "1a44bf6c",
   "metadata": {},
   "outputs": [],
   "source": [
    "# Define the model-building function\n",
    "def build_model(hp):\n",
    "    model = Sequential()\n",
    "\n",
    "    # Tune the number of units in the first Dense layer\n",
    "    model.add(Dense(units=hp.Int('units', min_value=32, max_value=512, step=32), input_dim=X_train.shape[1], activation='relu'))\n",
    "\n",
    "    # Tune the number of layers and units in the hidden layers\n",
    "    for i in range(hp.Int('num_layers', 1, 3)):\n",
    "        model.add(Dense(units=hp.Int(f'units_{i}', min_value=32, max_value=512, step=32), activation='relu'))\n",
    "\n",
    "    model.add(Dense(1, activation='sigmoid'))  # Assuming binary classification\n",
    "\n",
    "    # Tune the learning rate\n",
    "    model.compile(optimizer=Adam(learning_rate=hp.Choice('learning_rate', values=[1e-2, 1e-3, 1e-4])),\n",
    "                  loss='binary_crossentropy',\n",
    "                  metrics=['accuracy'])\n",
    "    \n",
    "    return model\n"
   ]
  },
  {
   "cell_type": "code",
   "execution_count": 24,
   "id": "791016da",
   "metadata": {},
   "outputs": [],
   "source": [
    "# Instantiate the tuner\n",
    "tuner = RandomSearch(\n",
    "    build_model,\n",
    "    objective='val_accuracy',\n",
    "    max_trials=10,  # Number of hyperparameter combinations to try\n",
    "    directory='my_tuning_directory',  # Directory to store tuning logs and checkpoints\n",
    "    project_name='my_first_tuning_project'  # Name for the tuning project\n",
    ")"
   ]
  },
  {
   "cell_type": "code",
   "execution_count": 25,
   "id": "8d9e8b4f",
   "metadata": {},
   "outputs": [
    {
     "name": "stdout",
     "output_type": "stream",
     "text": [
      "Trial 10 Complete [00h 00m 08s]\n",
      "val_accuracy: 0.8650000095367432\n",
      "\n",
      "Best val_accuracy So Far: 0.8679999709129333\n",
      "Total elapsed time: 00h 01m 18s\n"
     ]
    }
   ],
   "source": [
    "# Define early stopping to prevent overfitting\n",
    "early_stopping = EarlyStopping(monitor='val_loss', patience=3, restore_best_weights=True)\n",
    "\n",
    "# Perform the hyperparameter search\n",
    "tuner.search(X_train, y_train, epochs=20, validation_data=(X_val, y_val), callbacks=[early_stopping])\n",
    "\n",
    "# Get the best hyperparameters\n",
    "best_hps = tuner.get_best_hyperparameters(num_trials=1)[0]\n",
    "\n",
    "# Build the final model with the best hyperparameters\n",
    "final_model = tuner.hypermodel.build(best_hps)"
   ]
  },
  {
   "cell_type": "code",
   "execution_count": null,
   "id": "c3b41533",
   "metadata": {},
   "outputs": [],
   "source": [
    "{\"trial_id\": \"00\", \"hyperparameters\": {\"space\": [{\"class_name\": \"Int\", \"config\": {\"name\": \"units\", \"default\": null, \"conditions\": [], \"min_value\": 32, \"max_value\": 512, \"step\": 32, \"sampling\": \"linear\"}}, {\"class_name\": \"Int\", \"config\": {\"name\": \"num_layers\", \"default\": null, \"conditions\": [], \"min_value\": 1, \"max_value\": 3, \"step\": 1, \"sampling\": \"linear\"}}, {\"class_name\": \"Int\", \"config\": {\"name\": \"units_0\", \"default\": null, \"conditions\": [], \"min_value\": 32, \"max_value\": 512, \"step\": 32, \"sampling\": \"linear\"}}, {\"class_name\": \"Choice\", \"config\": {\"name\": \"learning_rate\", \"default\": 0.01, \"conditions\": [], \"values\": [0.01, 0.001, 0.0001], \"ordered\": true}}], \"values\": {\"units\": 128, \"num_layers\": 1, \"units_0\": 64, \"learning_rate\": 0.01}}, \"metrics\": {\"metrics\": {\"loss\": {\"direction\": \"min\", \"observations\": [{\"value\": [0.3960506021976471], \"step\": 0}]}, \"accuracy\": {\"direction\": \"max\", \"observations\": [{\"value\": [0.8387500047683716], \"step\": 0}]}, \"val_loss\": {\"direction\": \"min\", \"observations\": [{\"value\": [0.35267263650894165], \"step\": 0}]}, \"val_accuracy\": {\"direction\": \"max\", \"observations\": [{\"value\": [0.8634999990463257], \"step\": 0}]}}}, \"score\": 0.8634999990463257, \"best_step\": 0, \"status\": \"COMPLETED\", \"message\": null}"
   ]
  },
  {
   "cell_type": "code",
   "execution_count": null,
   "id": "d4751c7f",
   "metadata": {},
   "outputs": [],
   "source": [
    "{\"trial_id\": \"09\", \"hyperparameters\": {\"space\": [{\"class_name\": \"Int\", \"config\": {\"name\": \"units\", \"default\": null, \"conditions\": [], \"min_value\": 32, \"max_value\": 512, \"step\": 32, \"sampling\": \"linear\"}}, {\"class_name\": \"Int\", \"config\": {\"name\": \"num_layers\", \"default\": null, \"conditions\": [], \"min_value\": 1, \"max_value\": 3, \"step\": 1, \"sampling\": \"linear\"}}, {\"class_name\": \"Int\", \"config\": {\"name\": \"units_0\", \"default\": null, \"conditions\": [], \"min_value\": 32, \"max_value\": 512, \"step\": 32, \"sampling\": \"linear\"}}, {\"class_name\": \"Choice\", \"config\": {\"name\": \"learning_rate\", \"default\": 0.01, \"conditions\": [], \"values\": [0.01, 0.001, 0.0001], \"ordered\": true}}, {\"class_name\": \"Int\", \"config\": {\"name\": \"units_1\", \"default\": null, \"conditions\": [], \"min_value\": 32, \"max_value\": 512, \"step\": 32, \"sampling\": \"linear\"}}, {\"class_name\": \"Int\", \"config\": {\"name\": \"units_2\", \"default\": null, \"conditions\": [], \"min_value\": 32, \"max_value\": 512, \"step\": 32, \"sampling\": \"linear\"}}], \"values\": {\"units\": 96, \"num_layers\": 3, \"units_0\": 160, \"learning_rate\": 0.0001, \"units_1\": 32, \"units_2\": 64}}, \"metrics\": {\"metrics\": {\"loss\": {\"direction\": \"min\", \"observations\": [{\"value\": [0.3304722011089325], \"step\": 10}]}, \"accuracy\": {\"direction\": \"max\", \"observations\": [{\"value\": [0.8613749742507935], \"step\": 10}]}, \"val_loss\": {\"direction\": \"min\", \"observations\": [{\"value\": [0.33983755111694336], \"step\": 10}]}, \"val_accuracy\": {\"direction\": \"max\", \"observations\": [{\"value\": [0.8650000095367432], \"step\": 10}]}}}, \"score\": 0.8650000095367432, \"best_step\": 10, \"status\": \"COMPLETED\", \"message\": null}"
   ]
  },
  {
   "cell_type": "code",
   "execution_count": null,
   "id": "73d16db7",
   "metadata": {},
   "outputs": [],
   "source": []
  },
  {
   "cell_type": "code",
   "execution_count": null,
   "id": "b152d359",
   "metadata": {},
   "outputs": [],
   "source": []
  }
 ],
 "metadata": {
  "kernelspec": {
   "display_name": "Python 3 (ipykernel)",
   "language": "python",
   "name": "python3"
  },
  "language_info": {
   "codemirror_mode": {
    "name": "ipython",
    "version": 3
   },
   "file_extension": ".py",
   "mimetype": "text/x-python",
   "name": "python",
   "nbconvert_exporter": "python",
   "pygments_lexer": "ipython3",
   "version": "3.9.7"
  }
 },
 "nbformat": 4,
 "nbformat_minor": 5
}
